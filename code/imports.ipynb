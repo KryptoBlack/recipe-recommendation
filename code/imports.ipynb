{
  "cells": [
    {
      "cell_type": "code",
      "execution_count": 23,
      "metadata": {
        "id": "T8ZQmKRNw7d7"
      },
      "outputs": [],
      "source": [
        "import pandas as pd\n",
        "import numpy as np\n",
        "from scipy.sparse import csr_matrix\n",
        "from sklearn.neighbors import NearestNeighbors\n",
        "import matplotlib.pyplot as plt\n",
        "import seaborn as sns"
      ]
    },
    {
      "cell_type": "code",
      "execution_count": 24,
      "metadata": {
        "id": "V7_mlKuwzFtq"
      },
      "outputs": [
        {
          "name": "stdout",
          "output_type": "stream",
          "text": [
            "Stored 'ratings' (DataFrame)\n",
            "Stored 'food' (DataFrame)\n"
          ]
        }
      ],
      "source": [
        "food = pd.read_csv(\"C:\\\\Users\\\\Rhutuja\\\\Desktop\\\\Food-Recommendation-System\\\\input\\\\food.csv\")\n",
        "ratings = pd.read_csv(\"C:\\\\Users\\\\Rhutuja\\\\Desktop\\\\Food-Recommendation-System\\\\input\\\\ratings.csv\")\n",
        "%store ratings\n",
        "%store food"
      ]
    }
  ],
  "metadata": {
    "colab": {
      "name": "imports.ipynb",
      "provenance": []
    },
    "kernelspec": {
      "display_name": "Python 3",
      "name": "python3"
    },
    "language_info": {
      "codemirror_mode": {
        "name": "ipython",
        "version": 3
      },
      "file_extension": ".py",
      "mimetype": "text/x-python",
      "name": "python",
      "nbconvert_exporter": "python",
      "pygments_lexer": "ipython3",
      "version": "3.9.1"
    }
  },
  "nbformat": 4,
  "nbformat_minor": 0
}
