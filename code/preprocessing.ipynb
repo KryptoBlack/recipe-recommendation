{
  "cells": [
    {
      "cell_type": "code",
      "execution_count": 17,
      "metadata": {},
      "outputs": [],
      "source": [
        "from scipy.sparse import csr_matrix"
      ]
    },
    {
      "cell_type": "code",
      "execution_count": 18,
      "metadata": {
        "id": "rQepTWkDzktG"
      },
      "outputs": [],
      "source": [
        "%store -r ratings\n",
        "dataset = ratings.pivot_table(index='Food_ID',columns='User_ID',values='Rating')"
      ]
    },
    {
      "cell_type": "code",
      "execution_count": 19,
      "metadata": {
        "id": "m4b2WAatzqkM"
      },
      "outputs": [],
      "source": [
        "dataset.fillna(0,inplace=True)"
      ]
    },
    {
      "cell_type": "code",
      "execution_count": 20,
      "metadata": {
        "id": "vK9-8t2xztVM"
      },
      "outputs": [
        {
          "name": "stdout",
          "output_type": "stream",
          "text": [
            "Stored 'csr_dataset' (csr_matrix)\n",
            "Stored 'dataset' (DataFrame)\n"
          ]
        }
      ],
      "source": [
        "csr_dataset = csr_matrix(dataset.values)\n",
        "dataset.reset_index(inplace=True)\n",
        "%store csr_dataset\n",
        "%store dataset"
      ]
    }
  ],
  "metadata": {
    "colab": {
      "name": "preprocessing.ipynb",
      "provenance": []
    },
    "kernelspec": {
      "display_name": "Python 3",
      "name": "python3"
    },
    "language_info": {
      "codemirror_mode": {
        "name": "ipython",
        "version": 3
      },
      "file_extension": ".py",
      "mimetype": "text/x-python",
      "name": "python",
      "nbconvert_exporter": "python",
      "pygments_lexer": "ipython3",
      "version": "3.9.1"
    }
  },
  "nbformat": 4,
  "nbformat_minor": 0
}
