{
  "cells": [
    {
      "cell_type": "code",
      "execution_count": 4,
      "metadata": {},
      "outputs": [],
      "source": [
        "import pandas as pd\n",
        "%store -r food\n",
        "%store -r dataset\n",
        "%store -r model\n",
        "%store -r csr_dataset"
      ]
    },
    {
      "cell_type": "code",
      "execution_count": 5,
      "metadata": {
        "id": "ub__WW8WS6lv"
      },
      "outputs": [],
      "source": [
        "def food_recommendation(Food_Name):\n",
        "    n = 10\n",
        "    FoodList = food[food['Name'].str.contains(Food_Name)]  \n",
        "    if len(FoodList):        \n",
        "        Foodi= FoodList.iloc[0]['Food_ID']\n",
        "        Foodi = dataset[dataset['Food_ID'] == Foodi].index[0]\n",
        "        distances , indices = model.kneighbors(csr_dataset[Foodi],n_neighbors=n+1)    \n",
        "        Food_indices = sorted(list(zip(indices.squeeze().tolist(),distances.squeeze().tolist())),key=lambda x: x[1])[:0:-1]\n",
        "        Recommendations = []\n",
        "        for val in Food_indices:\n",
        "            Foodi = dataset.iloc[val[0]]['Food_ID']\n",
        "            i = food[food['Food_ID'] == Foodi].index\n",
        "            Recommendations.append({'Name':food.iloc[i]['Name'].values[0],'Distance':val[1]})\n",
        "        df = pd.DataFrame(Recommendations,index=range(1,n+1))\n",
        "        return df['Name']\n",
        "    else:\n",
        "        return \"No Similar Foods.\""
      ]
    },
    {
      "cell_type": "code",
      "execution_count": 6,
      "metadata": {
        "id": "ptKWvfyE0OGE"
      },
      "outputs": [
        {
          "data": {
            "text/plain": [
              "1                            chocolate appe\n",
              "2                          french pork chop\n",
              "3                                corn pulao\n",
              "4     surmai curry with lobster butter rice\n",
              "5                       apple and pear cake\n",
              "6                          lemon sushi cake\n",
              "7                   grilled lemon margarita\n",
              "8                    chocolate nero cookies\n",
              "9                               bhurji- egg\n",
              "10                       chocolate doughnut\n",
              "Name: Name, dtype: object"
            ]
          },
          "execution_count": 6,
          "metadata": {},
          "output_type": "execute_result"
        }
      ],
      "source": [
        "food_recommendation('summer squash salad')"
      ]
    }
  ],
  "metadata": {
    "colab": {
      "name": "cbfunction.ipynb",
      "provenance": []
    },
    "kernelspec": {
      "display_name": "Python 3",
      "name": "python3"
    },
    "language_info": {
      "codemirror_mode": {
        "name": "ipython",
        "version": 3
      },
      "file_extension": ".py",
      "mimetype": "text/x-python",
      "name": "python",
      "nbconvert_exporter": "python",
      "pygments_lexer": "ipython3",
      "version": "3.9.1"
    }
  },
  "nbformat": 4,
  "nbformat_minor": 0
}
